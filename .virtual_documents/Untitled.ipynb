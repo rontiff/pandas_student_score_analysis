import pandas as pd



df = pd.DataFrame({'name':['apple','apple','apple','apple','apple','orange','orange','orange','orange']})


df






